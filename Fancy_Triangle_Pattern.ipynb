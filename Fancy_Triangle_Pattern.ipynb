{
 "cells": [
  {
   "cell_type": "markdown",
   "source": [
    "# **_Fancy Random Triangles Pattern_**\n",
    "### **(Learning how to use plot)**\n",
    "\n",
    "#### https://www.instagram.com/reel/Cl4WkH9OPXc/?utm_source=ig_web_copy_link"
   ],
   "metadata": {
    "collapsed": false
   }
  },
  {
   "cell_type": "code",
   "execution_count": null,
   "outputs": [],
   "source": [
    "import numpy as np\n"
   ],
   "metadata": {
    "collapsed": false
   }
  }
 ],
 "metadata": {
  "kernelspec": {
   "display_name": "Python 3",
   "language": "python",
   "name": "python3"
  },
  "language_info": {
   "codemirror_mode": {
    "name": "ipython",
    "version": 2
   },
   "file_extension": ".py",
   "mimetype": "text/x-python",
   "name": "python",
   "nbconvert_exporter": "python",
   "pygments_lexer": "ipython2",
   "version": "2.7.6"
  }
 },
 "nbformat": 4,
 "nbformat_minor": 0
}
